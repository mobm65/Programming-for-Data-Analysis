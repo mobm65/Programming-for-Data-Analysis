{
 "cells": [
  {
   "cell_type": "markdown",
   "metadata": {},
   "source": [
    "# NumPy Random Package\n",
    "\n",
    "### An investigation of the purpose of the package.\n",
    "### Detail the use of the Simple Random Data function and the Permutation function.\n",
    "### The uses of a selection of Distributions functions.\n",
    "### Examine the use of seeds in generating pseudorandom numbers."
   ]
  },
  {
   "cell_type": "markdown",
   "metadata": {},
   "source": [
    "\n",
    "### An investigation of the purpose of the package.\n"
   ]
  },
  {
   "cell_type": "markdown",
   "metadata": {},
   "source": [
    "### Sources\n",
    "https://towardsdatascience.com/understanding-random-variable-a618a2e99b93\n",
    " https://pynative.com/python-random-module/   "
   ]
  },
  {
   "cell_type": "code",
   "execution_count": null,
   "metadata": {},
   "outputs": [],
   "source": [
    "# To generate an array of random numbers we need to use numpy.random.\n",
    "# The numpy.random package has many functions to generate the random\n",
    "# n-dimensional array for various distributions.\n",
    "# Numpy.Random is a Pseudo Random Number Generator (PRNG)which uses a combination of a bit \n",
    "# generator to generate a sequence.  \n",
    "# This sequence is then used to generate a PRNG.  An example of this is the random.randint \n",
    "# function which will choose an integer from a minimum value to a maximum value, \n",
    "# you can also pass in the number of times to do this to form a list.\n",
    "# Random variables are important in statistics and probability.  \n",
    "# If we are to understand probability we must be able to generate random numbers.  \n",
    "# If we use NumPy to generate random numbers we can use these to predict the probability of\n",
    "# a number being returned. \n"
   ]
  },
  {
   "cell_type": "markdown",
   "metadata": {},
   "source": [
    "## Statistical functions used in probability.\n",
    "\n",
    " https://courses.lumenlearning.com/odessa-introstats1-1/chapter/the-uniform-distribution/\n",
    "\n",
    "The uniform distribution is a continuous probability distribution and is concerned with events that are equally likely to occur. \n",
    "\n",
    "\n",
    "\n",
    "Uniform Distribution Notation X~U(a,b)where X is the value we want to find, a is the lowest value in the distribution and b the highest.\n",
    "\n",
    "Probability Density function is f(x) = 1/b-a\n",
    "Theoretical mean = a+b/2\n",
    "Theoretial standard deviation = square root of(b-a)squared/12\n",
    "\n"
   ]
  },
  {
   "cell_type": "markdown",
   "metadata": {},
   "source": [
    "\n",
    "## Detail the use of the Simple Random Data function and the Permutation function.\n"
   ]
  },
  {
   "cell_type": "code",
   "execution_count": null,
   "metadata": {},
   "outputs": [],
   "source": [
    "### Simple Random Data"
   ]
  },
  {
   "cell_type": "code",
   "execution_count": null,
   "metadata": {},
   "outputs": [],
   "source": [
    "### Sources\n",
    "\n",
    "https://www.w3schools.com/python/numpy_random_permutation.asp\n",
    "https://het.as.utexas.edu/HET/Software/Numpy/reference/routines.random.html\n",
    "https://numpy.org/doc/stable/reference/random/generated/numpy.random.rand\n"
   ]
  },
  {
   "cell_type": "code",
   "execution_count": null,
   "metadata": {},
   "outputs": [],
   "source": [
    "# There are many functions which can generate simple random data.\n",
    "# The function will take one or more parameters to return the desired array.\n",
    "# For example rand will return random values in the shape you determine.\n",
    "# randint will return random integers from the lowest (inclusive) to highest value (exclusive)\n",
    "# which you specify, random_integers will to the same except the highest is inclusive.\n",
    "# Random with a size parameter will return floats from 0.0 to 1.0.\n",
    "# Choice generates a random sample from a specified 1-D array.\n",
    "# I have given some worked examples below; randint, choice and rand."
   ]
  },
  {
   "cell_type": "code",
   "execution_count": null,
   "metadata": {},
   "outputs": [],
   "source": [
    "### Using np.random.randint"
   ]
  },
  {
   "cell_type": "code",
   "execution_count": null,
   "metadata": {},
   "outputs": [],
   "source": [
    "# Creating 50 values of possible dice throws.  \n",
    "# Max value is 7 because final value is exclusive.\n",
    "import numpy as np\n",
    "a = np.random.randint(1,7,50)\n",
    "print(a)\n"
   ]
  },
  {
   "cell_type": "code",
   "execution_count": null,
   "metadata": {},
   "outputs": [],
   "source": [
    "# Create 50 values for the two dice throws, adding face values for both.\n",
    "import numpy as np\n",
    "b = np.random.randint(1,7,50)\n",
    "a = np.random.randint(1,7,50)\n",
    "x = zip(a,b)\n",
    "rolls = [a+b for a, b in x]\n",
    "print(rolls)\n",
    "\n",
    "#rolls = [a+b for a, b in x]\n",
    "#print(rolls)"
   ]
  },
  {
   "cell_type": "code",
   "execution_count": null,
   "metadata": {},
   "outputs": [],
   "source": [
    "# plot the histogram of the dice throws\n",
    "\n",
    "import matplotlib.pyplot as plt\n",
    "plt.hist(rolls,50)\n",
    "plt.show()\n",
    "\n",
    "# we can see that 6, 7 and 8 occur more frequently because there are\n",
    "# more combinations which make these numbers, eg 7 (1&6)(2&5)(3&4).\n",
    "# All other numbers have two or one combinations."
   ]
  },
  {
   "cell_type": "code",
   "execution_count": null,
   "metadata": {},
   "outputs": [],
   "source": [
    "# Using numpy.random.choice"
   ]
  },
  {
   "cell_type": "code",
   "execution_count": null,
   "metadata": {},
   "outputs": [],
   "source": [
    "### If we use NumPy to generate random numbers we can use these to predict the probability of\n",
    "# a number being returned. \n",
    "# So if we want to predict how likely a six might appear when you throw the die, \n",
    "# you could start using the numpy.random package. \n",
    "# I will use the choice() method to select a random element from an array.\n",
    "\n",
    "from numpy import random \n",
    "x = random.choice([1,2,3,4,5,6])\n",
    "print(x)"
   ]
  },
  {
   "cell_type": "code",
   "execution_count": null,
   "metadata": {},
   "outputs": [],
   "source": [
    "### Using numpy.random.rand"
   ]
  },
  {
   "cell_type": "code",
   "execution_count": null,
   "metadata": {},
   "outputs": [],
   "source": [
    "# random number generation\n",
    "\n",
    "import numpy as np\n",
    "from numpy import random\n",
    "np.random.rand(2,4)  #2 rows, 4 columns.\n"
   ]
  },
  {
   "cell_type": "code",
   "execution_count": null,
   "metadata": {},
   "outputs": [],
   "source": [
    "\n",
    "\n",
    "### Permutation Function"
   ]
  },
  {
   "cell_type": "code",
   "execution_count": null,
   "metadata": {},
   "outputs": [],
   "source": [
    "# A permutation is an arrangement of the elements, eg, [7,8,9] becomes [9,8,7]\n",
    "# The numpy.random module allows us to do this in two ways; a) using the\n",
    "# shuffle() method or b) using the permutation() method."
   ]
  },
  {
   "cell_type": "code",
   "execution_count": null,
   "metadata": {},
   "outputs": [],
   "source": [
    "# The shuffle method changes the elements of the array within the array.\n",
    "\n",
    "import numpy as np\n",
    "from numpy import random\n",
    "\n",
    "arr = np.array([9,8,7,6,5,4])\n",
    "random.shuffle(arr)\n",
    "print(arr)"
   ]
  },
  {
   "cell_type": "code",
   "execution_count": 2,
   "metadata": {},
   "outputs": [
    {
     "name": "stdout",
     "output_type": "stream",
     "text": [
      "[9 8 7 6 5 4]\n",
      "[5 7 4 6 9 8]\n"
     ]
    }
   ],
   "source": [
    "# The permutation method returns a newly arranged array and leaves the \n",
    "# original array as it was.\n",
    "import numpy as np\n",
    "from numpy import random\n",
    "arr = np.array([9,8,7,6,5,4])\n",
    "arr2 = random.permutation(arr)\n",
    "print(arr)\n",
    "print(arr2)"
   ]
  },
  {
   "cell_type": "markdown",
   "metadata": {},
   "source": [
    "# Numpy.random Generator.standard_normal\n",
    "This takes its samples from a Normal distribution.\n",
    "A normal distribution has a mean of 0 and a standard deviation of 1."
   ]
  },
  {
   "cell_type": "markdown",
   "metadata": {},
   "source": [
    "A Normal distribution takes three parameters, if no shape is given the default output is None, this will return a singe value.  You can pass in ints or tuple of ints.\n",
    "The second parameter is dtype, the distribution type can be float64 or float32. The default value is np.float64.\n",
    "The third parameter is out, this can be an optional ndarray, (multidimensional array)\n",
    "or the default of None.  The out parameter must be the same shape and type as the output values.\n",
    "A Normal distribution will return a float or N dimension array. "
   ]
  },
  {
   "cell_type": "markdown",
   "metadata": {},
   "source": [
    "### Example of a Normal Distribution"
   ]
  },
  {
   "cell_type": "markdown",
   "metadata": {},
   "source": [
    "#### Sources\n",
    "\n",
    "https://numpy.org/doc/stable/reference/random/generated/numpy.random.Generator.standard_normal\n",
    "https://www.w3schools.com/python/numpy_random_normal.asp"
   ]
  },
  {
   "cell_type": "markdown",
   "metadata": {},
   "source": [
    "I will use the random.normal() method in Numpy to get a Normal data distribution. \n",
    "The parameters are loc (mean), \n",
    "scale (standard deviation)and size(shape of the returned array)"
   ]
  },
  {
   "cell_type": "code",
   "execution_count": null,
   "metadata": {},
   "outputs": [],
   "source": [
    "# generate a random normal distribution with mean 1, standard\n",
    "# deviation 2 and size (3,5)\n",
    "from numpy import random\n",
    "x = random.normal(loc=1, scale=2, size=(3,5))\n",
    "print(x)"
   ]
  },
  {
   "cell_type": "markdown",
   "metadata": {},
   "source": [
    "### Plotting a Normal Distribution"
   ]
  },
  {
   "cell_type": "code",
   "execution_count": null,
   "metadata": {},
   "outputs": [],
   "source": [
    "from numpy import random\n",
    "import matplotlib.pyplot as plt\n",
    "import seaborn as sns\n",
    "\n",
    "sns.distplot(random.normal(size=500), hist=False)\n",
    "plt.show()\n",
    "\n"
   ]
  },
  {
   "cell_type": "markdown",
   "metadata": {},
   "source": [
    "\n",
    "## Numpy.random.generator.geometric Distribution"
   ]
  },
  {
   "cell_type": "code",
   "execution_count": null,
   "metadata": {},
   "outputs": [],
   "source": [
    "https://reference.wolfram.com/language/ref/GeometricDistribution.htm\n",
    "https://www.geeksforgeeks.org/numpy-random-geometric-in-python/\n",
    "https://numpy.org/doc/stable/reference/random/generated/numpy.random.Generator.geometric.html\n",
    "\n"
   ]
  },
  {
   "cell_type": "code",
   "execution_count": null,
   "metadata": {},
   "outputs": [],
   "source": [
    "# The geometric distribution is the number of times you have failures before\n",
    "# you have a successful outcome.  There can only be two outcomes, eg., heads\n",
    "# or tails, win or lose, 1 or 0 etc.  This distribution will give a model\n",
    "# of the number of trials you must make in order to have a successful\n",
    "# outcome.\n",
    "\n",
    "# The function of the geometric distribution is as follows;\n",
    "f(k) = (1 - p)^{k - 1} p\n",
    "# where p is the probability of success in an individual trial\n",
    "# k = a positive integer\n",
    "\n",
    "# The geometric distribution takes two parameters p, is a float or an\n",
    "# array of floats and size which is an int or a tuple of ints or the default\n",
    "# None.\n",
    "# This returns a ndarray or a scalar (a quantity having magnitude but\n",
    "# not direction.)\n",
    "# The syntax is numpy.random.geometric(p, size=None) will return the random samples\n",
    "# of numpy array.\n",
    "# This distribution is helpful in estimating the probability of number of attempts must\n",
    "# be attempted before a successful one.\n"
   ]
  },
  {
   "cell_type": "code",
   "execution_count": 1,
   "metadata": {},
   "outputs": [
    {
     "data": {
      "image/png": "[encoded data removed]",
      "text/plain": [
       "<Figure size 432x288 with 1 Axes>"
      ]
     },
     "metadata": {
      "needs_background": "light"
     },
     "output_type": "display_data"
    }
   ],
   "source": [
    "# import numpy and geometric\n",
    "import numpy as np\n",
    "import matplotlib.pyplot as plt\n",
    "\n",
    "# using geometric() method\n",
    "gfg =np.random.geometric(0.65,1000)\n",
    "count, bins, ignored = plt.hist(gfg, 40)\n",
    "plt.show()"
   ]
  },
  {
   "cell_type": "code",
   "execution_count": null,
   "metadata": {},
   "outputs": [],
   "source": []
  }
 ],
 "metadata": {
  "kernelspec": {
   "display_name": "Python 3",
   "language": "python",
   "name": "python3"
  },
  "language_info": {
   "codemirror_mode": {
    "name": "ipython",
    "version": 3
   },
   "file_extension": ".py",
   "mimetype": "text/x-python",
   "name": "python",
   "nbconvert_exporter": "python",
   "pygments_lexer": "ipython3",
   "version": "3.8.3"
  }
 },
 "nbformat": 4,
 "nbformat_minor": 4
}
