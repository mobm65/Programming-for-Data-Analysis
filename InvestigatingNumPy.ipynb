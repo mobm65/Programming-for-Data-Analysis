{
 "cells": [
  {
   "cell_type": "markdown",
   "metadata": {},
   "source": [
    "# NumPy Random Package\n",
    "\n",
    "### An investigation of the purpose of the package.\n",
    "### Detail the use of the Simple Random Data function and the Permutation function.\n",
    "### The uses of a selection of Distributions functions.\n",
    "### Examine the use of seeds in generating pseudorandom numbers."
   ]
  },
  {
   "cell_type": "markdown",
   "metadata": {},
   "source": [
    "\n",
    "### An investigation of the purpose of the package.\n"
   ]
  },
  {
   "cell_type": "markdown",
   "metadata": {},
   "source": [
    "### Sources\n",
    "https://towardsdatascience.com/understanding-random-variable-a618a2e99b93\n",
    " https://pynative.com/python-random-module/   "
   ]
  },
  {
   "cell_type": "code",
   "execution_count": null,
   "metadata": {},
   "outputs": [],
   "source": [
    "# To generate an array of random numbers we need to use numpy.random.\n",
    "# The numpy.random package has many functions to generate the random\n",
    "# n-dimensional array for various distributions.\n",
    "# Numpy.Random is a Pseudo Random Number Generator (PRNG)which uses a combination of a bit \n",
    "# generator to generate a sequence.  \n",
    "# This sequence is then used to generate a PRNG.  An example of this is the random.randint \n",
    "# function which will generate a list of integers from a minimum to a maximum, \n",
    "# you can also pass in the number of times to do this."
   ]
  },
  {
   "cell_type": "code",
   "execution_count": null,
   "metadata": {},
   "outputs": [],
   "source": [
    "# Random variables are important in statistics and probability.  \n",
    "# If we are to understand probability we must be able to generate random numbers.  \n",
    "# If we use NumPy to generate random numbers we can use these to predict the probability of\n",
    "# a number being returned. \n",
    "# So if we want to predict how likely a six might appear when you throw the die, \n",
    "# you could start using the numpy.random package. \n",
    "# I will use the choice() method to select a random element from an array.\n",
    "\n",
    "from numpy import random \n",
    "x = random.choice([1,2,3,4,5,6])\n",
    "print(x)\n"
   ]
  },
  {
   "cell_type": "code",
   "execution_count": null,
   "metadata": {},
   "outputs": [],
   "source": [
    "# random number generation\n",
    "\n",
    "import numpy as np\n",
    "from numpy import random\n",
    "np.random.rand(2,4)  #2 rows, 4 columns.\n"
   ]
  },
  {
   "cell_type": "markdown",
   "metadata": {},
   "source": [
    "## Statistical functions used in probability.\n",
    "\n",
    " https://courses.lumenlearning.com/odessa-introstats1-1/chapter/the-uniform-distribution/\n",
    "\n",
    "The uniform distribution is a continuous probability distribution and is concerned with events that are equally likely to occur. \n",
    "\n",
    "\n",
    "\n",
    "Uniform Distribution Notation X~U(a,b)where X is the value we want to find, a is the lowest value in the distribution and b the highest.\n",
    "\n",
    "Probability Density function is f(x) = 1/b-a\n",
    "Theoretical mean = a+b/2\n",
    "Theoretial standard deviation = square root of(b-a)squared/12\n",
    "\n"
   ]
  },
  {
   "cell_type": "code",
   "execution_count": null,
   "metadata": {},
   "outputs": [],
   "source": [
    "import numpy as np\n",
    "a = np.random.randint(1,7,50)\n"
   ]
  },
  {
   "cell_type": "code",
   "execution_count": null,
   "metadata": {},
   "outputs": [],
   "source": [
    "import numpy as np\n",
    "b = np.random.randint(1,7,50)\n",
    "a = np.random.randint(1,7,50)\n",
    "x = zip(a,b)\n",
    "rolls = [a+b for a, b in x]\n",
    "print(rolls)\n",
    "\n",
    "#rolls = [a+b for a, b in doubledice]\n",
    "#print(rolls)"
   ]
  },
  {
   "cell_type": "code",
   "execution_count": null,
   "metadata": {},
   "outputs": [],
   "source": [
    "import matplotlib.pyplot as plt\n",
    "plt.hist(rolls,50)\n",
    "plt.show()"
   ]
  },
  {
   "cell_type": "markdown",
   "metadata": {},
   "source": [
    "# Numpy.random Generator.standard_normal\n",
    "This takes its samples from a Normal distribution.\n",
    "A normal distribution has a mean of 0 and a standard deviation of 1."
   ]
  },
  {
   "cell_type": "markdown",
   "metadata": {},
   "source": [
    "A Normal distribution takes three parameters, if no shape is given the default output is None, this will return a singe value.  You can pass in ints or tuple of ints.\n",
    "The second parameter is dtype, the distribution type can be float64 or float32. The default value is np.float64.\n",
    "The third parameter is out, this can be an optional ndarray, (multidimensional array)\n",
    "or the default of None.  The out parameter must be the same shape and type as the output values.\n",
    "A Normal distribution will return a float or N dimension array. "
   ]
  },
  {
   "cell_type": "markdown",
   "metadata": {},
   "source": [
    "### Example of a Normal Distribution"
   ]
  },
  {
   "cell_type": "markdown",
   "metadata": {},
   "source": [
    "#### Sources\n",
    "\n",
    "https://numpy.org/doc/stable/reference/random/generated/numpy.random.Generator.standard_normal\n",
    "https://www.w3schools.com/python/numpy_random_normal.asp"
   ]
  },
  {
   "cell_type": "markdown",
   "metadata": {},
   "source": [
    "I will use the random.normal() method in Numpy to get a Normal data distribution. \n",
    "The parameters are loc (mean), \n",
    "scale (standard deviation)and size(shape of the returned array)"
   ]
  },
  {
   "cell_type": "code",
   "execution_count": null,
   "metadata": {},
   "outputs": [],
   "source": [
    "# generate a random normal distribution with mean 1, standard\n",
    "# deviation 2 and size (3,5)\n",
    "from numpy import random\n",
    "x = random.normal(loc=1, scale=2, size=(3,5))\n",
    "print(x)"
   ]
  },
  {
   "cell_type": "markdown",
   "metadata": {},
   "source": [
    "### Plotting a Normal Distribution"
   ]
  },
  {
   "cell_type": "code",
   "execution_count": null,
   "metadata": {},
   "outputs": [],
   "source": [
    "from numpy import random\n",
    "import matplotlib.pyplot as plt\n",
    "import seaborn as sns\n",
    "\n",
    "sns.distplot(random.normal(size=500), hist=False)\n",
    "plt.show()\n"
   ]
  },
  {
   "cell_type": "code",
   "execution_count": null,
   "metadata": {},
   "outputs": [],
   "source": []
  }
 ],
 "metadata": {
  "kernelspec": {
   "display_name": "Python 3",
   "language": "python",
   "name": "python3"
  },
  "language_info": {
   "codemirror_mode": {
    "name": "ipython",
    "version": 3
   },
   "file_extension": ".py",
   "mimetype": "text/x-python",
   "name": "python",
   "nbconvert_exporter": "python",
   "pygments_lexer": "ipython3",
   "version": "3.8.3"
  }
 },
 "nbformat": 4,
 "nbformat_minor": 4
}
