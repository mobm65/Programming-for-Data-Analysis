{
 "cells": [
  {
   "cell_type": "markdown",
   "metadata": {},
   "source": [
    "# NumPy Random Package\n",
    "\n",
    "### 1  An investigation of the purpose of the package.\n",
    "### 2  Detail the use of the Simple Random Data function and the Permutation function.\n",
    "### 3  The uses of a selection of Distributions functions.\n",
    "### 4  Examine the use of seeds in generating pseudorandom numbers."
   ]
  },
  {
   "cell_type": "markdown",
   "metadata": {},
   "source": [
    "\n",
    "\n",
    "\n",
    "## 1  An investigation of the purpose of the package.\n"
   ]
  },
  {
   "cell_type": "markdown",
   "metadata": {},
   "source": [
    "### Sources\n",
    "https://towardsdatascience.com/understanding-random-variable-a618a2e99b93\n",
    " https://pynative.com/python-random-module/   "
   ]
  },
  {
   "cell_type": "markdown",
   "metadata": {},
   "source": [
    "If you provide an input to a computer it will perform a set of determined actions on the input\n",
    "and give an output.  If you put the same input you will get the same output.  Computers use\n",
    "an algorithm to imitate randomness.  A set of algorithms called Pseudo Random Number Generators (PRNG)\n",
    "are used to generate numbers which resemble random numbers.\n",
    "To generate an array of random numbers we need to use numpy.random.\n",
    "The numpy.random package has many functions to generate the random\n",
    "n-dimensional array for various distributions. Numpy.Random is a Pseudo Random Number Generator (PRNG)\n",
    "which uses a combination of a bit generator to generate a sequence.  \n",
    "This sequence is then used to generate a PRNG.  An example of this is the random.randint \n",
    "function which will choose an integer from a minimum value to a maximum value, \n",
    "you can also pass in the number of times to do this to form a list.\n",
    "Random variables are important in statistics and probability.  \n",
    "If we are to understand probability we must be able to generate random numbers.  \n",
    "If we use NumPy to generate random numbers we can use these to predict the probability of\n",
    "a number being returned. \n"
   ]
  },
  {
   "cell_type": "markdown",
   "metadata": {},
   "source": [
    "\n",
    "## 2  Detail the use of the Simple Random Data function and the Permutation function.\n"
   ]
  },
  {
   "cell_type": "markdown",
   "metadata": {},
   "source": [
    "### Simple Random Data"
   ]
  },
  {
   "cell_type": "markdown",
   "metadata": {},
   "source": [
    "### Sources\n",
    "\n",
    "https://www.w3schools.com/python/numpy_random_permutation.asp\n",
    "    \n",
    "https://het.as.utexas.edu/HET/Software/Numpy/reference/routines.random.html\n",
    "    \n",
    "https://numpy.org/doc/stable/reference/random/generated/numpy.random.rand\n"
   ]
  },
  {
   "cell_type": "markdown",
   "metadata": {},
   "source": [
    "There are many functions which can generate simple random data.\n",
    "The function will take one or more parameters to return the desired array.\n",
    "For example rand will return random values in the shape you determine.\n",
    "Randint will return random integers from the lowest (inclusive) to highest value (exclusive)\n",
    "which you specify, random_integers will do the same except the highest is inclusive.\n",
    "Random with a size parameter will return floats from 0.0 to 1.0.\n",
    "Choice generates a random sample from a specified 1-D array.\n",
    "Below I have given some worked examples below; randint, choice and rand."
   ]
  },
  {
   "cell_type": "markdown",
   "metadata": {},
   "source": [
    "### Using np.random.randint"
   ]
  },
  {
   "cell_type": "code",
   "execution_count": null,
   "metadata": {},
   "outputs": [],
   "source": [
    "# Creating 50 values of possible dice throws.  \n",
    "# Max value is 7 because final value is exclusive.\n",
    "\n",
    "import numpy as np\n",
    "a = np.random.randint(1,7,50)\n",
    "print(a)\n"
   ]
  },
  {
   "cell_type": "code",
   "execution_count": null,
   "metadata": {},
   "outputs": [],
   "source": [
    "# Create 50 values for the two dice throws, adding face values for both.\n",
    "\n",
    "import numpy as np\n",
    "b = np.random.randint(1,7,50)\n",
    "a = np.random.randint(1,7,50)\n",
    "\n",
    "# Join the first element of the list a with the first element of list b,\n",
    "# and continue until all the elements form pairs.  eg. (1,3)\n",
    "x = zip(a,b)\n",
    "\n",
    "# rolls takes the sum of each throw of two dice\n",
    "rolls = [a+b for a, b in x]\n",
    "\n",
    "print(rolls)\n",
    "\n"
   ]
  },
  {
   "cell_type": "code",
   "execution_count": null,
   "metadata": {},
   "outputs": [],
   "source": [
    "# plot the histogram of the dice throws\n",
    "\n",
    "import matplotlib.pyplot as plt\n",
    "\n",
    "plt.hist(rolls,50)\n",
    "plt.show()\n",
    "\n",
    "# we can see that 6, 7 and 8 occur more frequently because there are\n",
    "# more combinations which make these numbers, eg 7 (1&6)(2&5)(3&4).\n",
    "# All other numbers have two or one combinations, eg 4 (3&1) (2,2)"
   ]
  },
  {
   "cell_type": "markdown",
   "metadata": {},
   "source": [
    "### Using numpy.random.choice"
   ]
  },
  {
   "cell_type": "markdown",
   "metadata": {},
   "source": [
    " If we use NumPy to generate random numbers we can use these to predict the probability of\n",
    " a number being returned. \n",
    " So if we want to predict how likely a six might appear when you throw the die, \n",
    " you could start using the numpy.random package. \n",
    " I will use the choice() method to select a random element from an array.\n",
    "\n"
   ]
  },
  {
   "cell_type": "code",
   "execution_count": null,
   "metadata": {},
   "outputs": [],
   "source": [
    "from numpy import random \n",
    "\n",
    "# The choice method selects a random element from this array\n",
    "x = random.choice([1,2,3,4,5,6])\n",
    "\n",
    "print(x)"
   ]
  },
  {
   "cell_type": "markdown",
   "metadata": {},
   "source": [
    "### Using numpy.random.rand"
   ]
  },
  {
   "cell_type": "markdown",
   "metadata": {},
   "source": [
    "Numpy.random.rand will return values from 0 to 1 in a shape you designate.  So the following example \n",
    "with 2 rows and 4 columns will return 8 values between 1 and 0.  If the shape was 20 rows and 5 columns,\n",
    "the function will return an array of 100 values."
   ]
  },
  {
   "cell_type": "code",
   "execution_count": null,
   "metadata": {},
   "outputs": [],
   "source": [
    "# random number generation using numpy.random.rand will generate\n",
    "# an array of numbers from 0 to 1 in a designated shape.\n",
    "\n",
    "import numpy as np\n",
    "from numpy import random\n",
    "\n",
    "np.random.rand(2,4)  #2 rows, 4 columns.\n"
   ]
  },
  {
   "cell_type": "markdown",
   "metadata": {},
   "source": [
    "\n",
    "\n",
    "### Permutation Function"
   ]
  },
  {
   "cell_type": "markdown",
   "metadata": {},
   "source": [
    "A permutation is an arrangement of the elements, eg, [7,8,9] becomes [9,8,7]\n",
    "The numpy.random module allows us to do this in two ways; a) using the\n",
    "shuffle() method or b) using the permutation() method."
   ]
  },
  {
   "cell_type": "code",
   "execution_count": null,
   "metadata": {},
   "outputs": [],
   "source": [
    "# The shuffle method changes the elements of the array within the array.\n",
    "\n",
    "import numpy as np\n",
    "from numpy import random\n",
    "\n",
    "arr = np.array([9,8,7,6,5,4])\n",
    "random.shuffle(arr)\n",
    "print(arr)"
   ]
  },
  {
   "cell_type": "code",
   "execution_count": null,
   "metadata": {},
   "outputs": [],
   "source": [
    "# The permutation method returns a newly arranged array and leaves the \n",
    "# original array as it was.\n",
    "\n",
    "import numpy as np\n",
    "from numpy import random\n",
    "\n",
    "# the original array\n",
    "arr = np.array([9,8,7,6,5,4])\n",
    "\n",
    "# the new array\n",
    "arr2 = random.permutation(arr)\n",
    "\n",
    "print(arr)\n",
    "print(arr2)\n",
    "\n"
   ]
  },
  {
   "cell_type": "markdown",
   "metadata": {},
   "source": [
    "## 3 The Uses of a Selection of Distribution Functions"
   ]
  },
  {
   "cell_type": "markdown",
   "metadata": {},
   "source": [
    "### Numpy.random Generator.standard_normal\n",
    "This takes its samples from a Normal distribution.\n",
    "A normal distribution has a mean of 0 and a standard deviation of 1."
   ]
  },
  {
   "cell_type": "markdown",
   "metadata": {},
   "source": [
    "A Normal distribution takes three parameters, if no shape is given the default output is None, this will return a single value.  You can pass in ints or tuple of ints.\n",
    "The second parameter is dtype, the distribution type can be float64 or float32. The default value is np.float64.\n",
    "The third parameter is out, this can be an optional ndarray, (multidimensional array)\n",
    "or the default of None.  The out parameter must be the same shape and type as the output values.\n",
    "A Normal distribution will return a float or N dimension array. "
   ]
  },
  {
   "cell_type": "markdown",
   "metadata": {},
   "source": [
    "#### Sources\n",
    "\n",
    "https://numpy.org/doc/stable/reference/random/generated/numpy.random.Generator.standard_normal\n",
    "    \n",
    "https://www.w3schools.com/python/numpy_random_normal.asp\n",
    "    "
   ]
  },
  {
   "cell_type": "markdown",
   "metadata": {},
   "source": [
    "### Example of a Normal Distribution"
   ]
  },
  {
   "cell_type": "markdown",
   "metadata": {},
   "source": [
    "I will use the random.normal() method in Numpy to get a Normal data distribution. \n",
    "The parameters are loc (mean), \n",
    "scale (standard deviation)and size(shape of the returned array)"
   ]
  },
  {
   "cell_type": "code",
   "execution_count": null,
   "metadata": {},
   "outputs": [],
   "source": [
    "# generate a random normal distribution with mean 1, standard\n",
    "# deviation 2 and size (3,5)\n",
    "\n",
    "from numpy import random\n",
    "x = random.normal(loc=1, scale=2, size=(3,5))\n",
    "\n",
    "print(x)"
   ]
  },
  {
   "cell_type": "markdown",
   "metadata": {},
   "source": [
    "### Plotting a Normal Distribution"
   ]
  },
  {
   "cell_type": "code",
   "execution_count": null,
   "metadata": {},
   "outputs": [],
   "source": [
    "from numpy import random\n",
    "import matplotlib.pyplot as plt\n",
    "import seaborn as sns\n",
    "\n",
    "sns.distplot(random.normal(size=500), hist=False)\n",
    "plt.show()\n",
    "\n"
   ]
  },
  {
   "cell_type": "markdown",
   "metadata": {},
   "source": [
    "\n",
    "## Numpy.random.generator.geometric Distribution"
   ]
  },
  {
   "cell_type": "markdown",
   "metadata": {},
   "source": [
    "### Sources\n",
    "\n",
    "https://reference.wolfram.com/language/ref/GeometricDistribution.htm\n",
    "    \n",
    "https://www.geeksforgeeks.org/numpy-random-geometric-in-python/\n",
    "    \n",
    "https://numpy.org/doc/stable/reference/random/generated/numpy.random.Generator.geometric.html\n",
    "\n"
   ]
  },
  {
   "cell_type": "markdown",
   "metadata": {},
   "source": [
    "The geometric distribution is the number of times you have failures before\n",
    "you have a successful outcome.  There can only be two outcomes, eg., heads\n",
    "or tails, win or lose, 1 or 0 etc.  This distribution will give a model\n",
    "of the number of trials you must make in order to have a successful\n",
    "outcome.\n",
    "\n",
    "The function of the geometric distribution is as follows;\n",
    "f(k) = (1 - p)^{k - 1} p\n",
    "where p is the probability of success in an individual trial\n",
    "k = a positive integer\n",
    "\n",
    "The geometric distribution takes two parameters p, is a float or an\n",
    "array of floats and size which is an int or a tuple of ints or the default None.\n",
    "This returns a ndarray or a scalar (a quantity having magnitude but not direction.)\n",
    "The syntax is numpy.random.geometric(p, size=None) will return the random samples of numpy array.\n",
    "This distribution is helpful in estimating the probability of number of attempts must\n",
    "be attempted before a successful one.\n"
   ]
  },
  {
   "cell_type": "code",
   "execution_count": null,
   "metadata": {},
   "outputs": [],
   "source": [
    "# import numpy and geometric\n",
    "import numpy as np\n",
    "import matplotlib.pyplot as plt\n",
    "\n",
    "# using geometric() method\n",
    "gfg =np.random.geometric(0.65,1000)\n",
    "count, bins, ignored = plt.hist(gfg, 40)\n",
    "plt.show()\n",
    "\n",
    "\n"
   ]
  },
  {
   "cell_type": "markdown",
   "metadata": {},
   "source": [
    "### NUMPY.RANDOM.GENERATOR.UNIFORM"
   ]
  },
  {
   "cell_type": "markdown",
   "metadata": {},
   "source": [
    "#### Sources\n",
    "\n",
    "https://courses.lumenlearning.com/odessa-introstats1-1/chapter/the-uniform-distribution/\n",
    "        \n",
    "https://www.w3schools.com/python/numpy_random_uniform.asp\n",
    "    \n",
    "https://www.investopedia.com/terms/u/uniform-distribution.asp\n",
    "    \n",
    "\n",
    "    \n"
   ]
  },
  {
   "cell_type": "markdown",
   "metadata": {},
   "source": [
    "The uniform distribution is a continuous probability distribution and is concerned with events that are equally likely \n",
    "to occur.\n",
    "In Maths the Uniform Distribution Notation X~U(a,b)where X is the value we want to find, a is the lowest value in \n",
    "the distribution and b the highest.\n",
    "Probability Density function is f(x) = 1/b-a \n",
    "Theoretical mean = a+b/2 \n",
    "Theoretial standard deviation = square root of(b-a)squared/12\n",
    "\n",
    "To generate random numbers where every number has an equal chance of occuring we use the uniform distribution.\n",
    "In Python the function has three parameters where a = the lowest bound (default =0.0), b is the highest bound \n",
    "(default 1.0) and size which is the shape of the returned array.\n",
    "\n",
    "A deck of cards is a uniform distribution because the probability of drawing each card is equally likely.  This is an example\n",
    "of a discrete distribution.  In a discrete distribution each sample can only appear in its positive single form.  You can\n",
    "only have the 5 of hearts, not the 5 1/2 of hearts.\n",
    "\n",
    "Some uniform distributions can be continuous with each number between two points having an equal opportunity of appearing, eg\n",
    "between 0.0 and 1.0 there are an infinite number of points.\n"
   ]
  },
  {
   "cell_type": "code",
   "execution_count": null,
   "metadata": {},
   "outputs": [],
   "source": [
    "# create a continuous distribution between 0.0 and 1.0 using the uniform distribution\n",
    "# the lowest bound is 0.0 and the highest bound is 1.0 because they are the default values\n",
    "# the shape of the array will be two rows and three columns.\n",
    "\n",
    "from numpy import random\n",
    "x = random.uniform(size = (2,3))\n",
    "\n",
    "print(x)\n",
    "\n",
    "import matplotlib.pyplot as plt\n",
    "import seaborn as sns\n",
    "sns.distplot(random.uniform(size = (2,3))\n",
    "             \n",
    "plt.show(x)"
   ]
  },
  {
   "cell_type": "code",
   "execution_count": null,
   "metadata": {},
   "outputs": [],
   "source": [
    "# Plot the outcome of the uniform distribution.\n",
    "from numpy import random\n",
    "import matplotlib.pyplot as plt\n",
    "import seaborn as sns\n",
    "\n",
    "sns.distplot(random.uniform(size = (2,3))\n",
    "             \n",
    "plt.show()"
   ]
  },
  {
   "cell_type": "markdown",
   "metadata": {},
   "source": [
    "### NUMPY.RANDOM.GENERATOR.BINOMIAL"
   ]
  },
  {
   "cell_type": "code",
   "execution_count": null,
   "metadata": {},
   "outputs": [],
   "source": [
    "Numpy.random is a PRNG, a pseudo random number generator, and it generates pseudo random arrays.\n",
    "A binomial function can have only two possible outcomes; yes/no, true/false, heads/tails. \n",
    "It is, therefore, a discrete distribution. The function I am using is numpy.random.binomial which takes three parameters: \n",
    "n = the number of trials, p = the probability of the outcome occuring and size = the shape of the returned array.\n",
    "\n",
    "In the following worked example I will use the binomial function to generate a random sample of how many times heads is\n",
    "returned when you toss a coin.  Then I will "
   ]
  },
  {
   "cell_type": "code",
   "execution_count": null,
   "metadata": {},
   "outputs": [],
   "source": [
    "from numpy import random\n",
    "\n",
    "coinflip = random.binomial(n=100, p=.5,size=100)\n",
    "print(coinflip)    \n",
    "# returns one humdred answers "
   ]
  },
  {
   "cell_type": "code",
   "execution_count": null,
   "metadata": {},
   "outputs": [],
   "source": [
    "from numpy import random\n",
    "import seaborn as sns\n",
    "heads = random.binomial(n=1, p=.5, size=100)\n",
    "print(heads)\n",
    "sum(heads)"
   ]
  },
  {
   "cell_type": "code",
   "execution_count": null,
   "metadata": {},
   "outputs": [],
   "source": [
    "from numpy import random\n",
    "import seaborn as sns\n",
    "x = random.binomial(n=1000, p=.5, size=1000)\n",
    "#print(x)\n",
    "\n",
    "#import matplotlib.pyplot as plt\n",
    "#plt.hist(x)\n",
    "#plt.show\n",
    "sns.set_style(\"darkgrid\")\n",
    "sns.distplot(x)\n",
    "\n",
    "\n"
   ]
  },
  {
   "cell_type": "markdown",
   "metadata": {},
   "source": [
    "## 4 Examine the Use of Seeds in Generating Pseudorandom Numbers\n",
    "\n"
   ]
  },
  {
   "cell_type": "markdown",
   "metadata": {},
   "source": [
    "#### Sources\n",
    "\n",
    "https://pynative.com/python-random-seed/\n",
    "    \n",
    "https://www.geeksforgeeks.org/random-seed-in-python/\n",
    "    \n",
    "https://www.w3schools.com/python/ref_random_seed.asp\n",
    "\n",
    "https://medium.com/@debanjana.bhattacharyya9818/numpy-random-seed-101-explained-2e96ee3fd90b\n",
    "\n",
    "\n",
    "    \n",
    "    "
   ]
  },
  {
   "cell_type": "markdown",
   "metadata": {},
   "source": [
    "\n",
    "\n",
    "\n",
    "\n",
    "Psuedorandom numbers are not random at all, they are computed using a\n",
    "determanistic algorithm.  The seed is the starting point for a sequence of\n",
    "psuedorandom numbers. If you start from the same seed you will get the same\n",
    "sequence every time.  This can be useful for debugging any issues with your\n",
    "coding.  Machine Learning requires the splitting of test and training datasets.  So\n",
    "using seeds is essential in producing random samples from the dataset.\n",
    "\n",
    "The syntax of Numpy Randomm Seed takes only one parameter, the seed, as it as follows;\n",
    "\n",
    "np.random.seed(seed_value)\n",
    "\n",
    "In the following sequence of tests I will generate an array of numbers with 1 as its seed.\n",
    "I will then repeat this test to see if I get the same array a second time.  After that I\n",
    "will do the test with a seed of 2 to see if it generates a different array.  The next test\n",
    "is the default where no seed is specifies, np.random.seed will use a time stamp to provide \n",
    "the seed.  If you need to have repeatable outputs it is best to set your own seed and the timestamp constantly\n",
    "changes.  The seed can be any number you like.  The last test is how to take a sample from your\n",
    "array, this is important if you need a training subset and a test subset from the dataset.\n"
   ]
  },
  {
   "cell_type": "code",
   "execution_count": null,
   "metadata": {},
   "outputs": [],
   "source": [
    "import numpy as np\n",
    "from numpy import random\n",
    "\n",
    "# Enter a seed of 1 and observe the array it returns\n",
    "\n",
    "np.random.seed(1)\n",
    "np.random.randint(low=1, high=10, size=10)\n"
   ]
  },
  {
   "cell_type": "code",
   "execution_count": null,
   "metadata": {},
   "outputs": [],
   "source": [
    "import numpy as np\n",
    "from numpy import random\n",
    "\n",
    "# Repeat the cell above and note the returned array is the same\n",
    "\n",
    "np.random.seed(1)\n",
    "np.random.randint(low=1, high=10, size=10)"
   ]
  },
  {
   "cell_type": "code",
   "execution_count": null,
   "metadata": {},
   "outputs": [],
   "source": [
    "import numpy as np\n",
    "from numpy import random\n",
    "\n",
    "# Replace the seed with 2 and note the array changes.\n",
    "np.random.seed(2)\n",
    "np.random.randint(low=2, high=10, size=10)"
   ]
  },
  {
   "cell_type": "code",
   "execution_count": null,
   "metadata": {},
   "outputs": [],
   "source": [
    "import numpy as np\n",
    "from numpy import random\n",
    "\n",
    "# Don't set a seed, allow computer to use default.\n",
    "\n",
    "np.random.seed\n",
    "np.random.randint(low=1, high=10, size=10)"
   ]
  },
  {
   "cell_type": "code",
   "execution_count": null,
   "metadata": {},
   "outputs": [],
   "source": [
    "import numpy as np\n",
    "from numpy import random\n",
    "\n",
    "# set a seed at 1, this will allow us to reproduce this array if necessary\n",
    "# use the random.randint method to get an array (x) from 2-100, with 40 elements.\n",
    "\n",
    "np.random.seed(1)\n",
    "x = np.random.randint (low=2, high=100, size=40)\n",
    "print(x)\n",
    "\n",
    "\n",
    "# Create an array (y)which is a subset of 5 elements of the dataset x.\n",
    "\n",
    "y = np.random.choice (x, size=5)\n",
    "print(y)"
   ]
  },
  {
   "cell_type": "code",
   "execution_count": null,
   "metadata": {},
   "outputs": [],
   "source": []
  }
 ],
 "metadata": {
  "kernelspec": {
   "display_name": "Python 3",
   "language": "python",
   "name": "python3"
  },
  "language_info": {
   "codemirror_mode": {
    "name": "ipython",
    "version": 3
   },
   "file_extension": ".py",
   "mimetype": "text/x-python",
   "name": "python",
   "nbconvert_exporter": "python",
   "pygments_lexer": "ipython3",
   "version": "3.8.3"
  }
 },
 "nbformat": 4,
 "nbformat_minor": 4
}
