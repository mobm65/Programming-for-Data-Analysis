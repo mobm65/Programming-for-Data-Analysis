{
 "cells": [
  {
   "cell_type": "markdown",
   "metadata": {},
   "source": [
    "# NumPy Random Package\n",
    "\n",
    "### An investigation of the purpose of the package.\n",
    "### Detail the use of the Simple Random Data function and the Permutation function.\n",
    "### The uses of a selection of Distributions functions.\n",
    "### Examine the use of seeds in generating pseudorandom numbers."
   ]
  },
  {
   "cell_type": "code",
   "execution_count": null,
   "metadata": {},
   "outputs": [],
   "source": [
    "https://towardsdatascience.com/understanding-random-variable-a618a2e99b93"
   ]
  },
  {
   "cell_type": "code",
   "execution_count": 3,
   "metadata": {},
   "outputs": [
    {
     "name": "stdout",
     "output_type": "stream",
     "text": [
      "4\n"
     ]
    }
   ],
   "source": [
    "# Random variables are important in statistics and probability.  If we are to understand probability we must be able \n",
    "# to generate random numbers.  If we use NumPy to generate random numbers we can use these to predict the probability of\n",
    "# a number being returned. So if we want to predict how likely a six might appear when you throw the die, you could start\n",
    "# using the numpy.random package. I will use the choice() method to select a random element from an array.\n",
    "\n",
    "from numpy import random \n",
    "x = random.choice([1,2,3,4,5,6])\n",
    "print(x)\n"
   ]
  },
  {
   "cell_type": "code",
   "execution_count": 4,
   "metadata": {},
   "outputs": [
    {
     "data": {
      "text/plain": [
       "array([[0.888515  , 0.19624522, 0.57172657, 0.83188331],\n",
       "       [0.53244441, 0.96717137, 0.48164456, 0.14648901]])"
      ]
     },
     "execution_count": 4,
     "metadata": {},
     "output_type": "execute_result"
    }
   ],
   "source": [
    "# random number generation\n",
    "\n",
    "import numpy as np\n",
    "from numpy import random\n",
    "np.random.rand(2,4)  #2 rows, 4 columns.\n"
   ]
  },
  {
   "cell_type": "markdown",
   "metadata": {},
   "source": [
    "#### Statistical functions used in probability.\n",
    "##### https://courses.lumenlearning.com/odessa-introstats1-1/chapter/the-uniform-distribution/\n",
    "\n",
    "Uniform Distribution Notation X~U(a,b)where X is the value we want\n",
    "to find, a is the lowest value in the distribution and b the highest.\n",
    "\n",
    "Probability Density function is f(x) = 1/b-a\n",
    "Theoretical mean = a+b/2\n",
    "Theoretial standard deviation = square root of(b-a)squared/12\n",
    "\n"
   ]
  },
  {
   "cell_type": "code",
   "execution_count": null,
   "metadata": {},
   "outputs": [],
   "source": [
    "#Numpy.Random is a Pseudo Random Number Generator (PRNG)which uses a combination of a bit generator to generate a sequence.  \n",
    "#This sequence is then used to generate a PRNG.  An example of this is the random.randint function \n",
    "# which will generate a list of integers from a minimum to a maximum, you can also pass in the number of times to do this."
   ]
  },
  {
   "cell_type": "code",
   "execution_count": null,
   "metadata": {},
   "outputs": [],
   "source": [
    "import numpy as np\n",
    "a = np.random.randint(1,7,50)\n"
   ]
  },
  {
   "cell_type": "code",
   "execution_count": 1,
   "metadata": {},
   "outputs": [
    {
     "name": "stdout",
     "output_type": "stream",
     "text": [
      "[3, 8, 8, 7, 9, 5, 9, 4, 2, 12, 3, 11, 4, 8, 8, 10, 9, 7, 11, 6, 9, 5, 3, 8, 11, 2, 2, 9, 8, 11, 9, 7, 7, 7, 2, 8, 3, 9, 5, 7, 10, 6, 6, 2, 8, 2, 8, 12, 3, 9]\n"
     ]
    }
   ],
   "source": [
    "import numpy as np\n",
    "b = np.random.randint(1,7,50)\n",
    "a = np.random.randint(1,7,50)\n",
    "x = zip(a,b)\n",
    "rolls = [a+b for a, b in x]\n",
    "print(rolls)\n",
    "\n",
    "#rolls = [a+b for a, b in doubledice]\n",
    "#print(rolls)"
   ]
  },
  {
   "cell_type": "code",
   "execution_count": 2,
   "metadata": {},
   "outputs": [
    {
     "data": {
      "image/png": "[encoded data removed]",
      "text/plain": [
       "<Figure size 432x288 with 1 Axes>"
      ]
     },
     "metadata": {
      "needs_background": "light"
     },
     "output_type": "display_data"
    }
   ],
   "source": [
    "import matplotlib.pyplot as plt\n",
    "plt.hist(rolls,50)\n",
    "plt.show()"
   ]
  },
  {
   "cell_type": "code",
   "execution_count": null,
   "metadata": {},
   "outputs": [],
   "source": []
  }
 ],
 "metadata": {
  "kernelspec": {
   "display_name": "Python 3",
   "language": "python",
   "name": "python3"
  },
  "language_info": {
   "codemirror_mode": {
    "name": "ipython",
    "version": 3
   },
   "file_extension": ".py",
   "mimetype": "text/x-python",
   "name": "python",
   "nbconvert_exporter": "python",
   "pygments_lexer": "ipython3",
   "version": "3.8.3"
  }
 },
 "nbformat": 4,
 "nbformat_minor": 4
}
